{
 "cells": [
  {
   "cell_type": "code",
   "execution_count": 1,
   "metadata": {},
   "outputs": [],
   "source": [
    "import warnings\n",
    "warnings.filterwarnings('ignore')\n",
    "import math\n",
    "import random\n",
    "\n",
    "import numpy as np\n",
    "from matplotlib import pyplot as plt\n",
    "import networkx as nx"
   ]
  },
  {
   "cell_type": "code",
   "execution_count": 2,
   "metadata": {},
   "outputs": [],
   "source": [
    "def weighted_graph(num_nodes):\n",
    "    \"\"\"This method adds random weights to \n",
    "    each edge of the graph.\"\"\"\n",
    "    \n",
    "    plt.figure(figsize=(6, 5))\n",
    "    \n",
    "    nodelist = list(range(1, num_nodes + 1))\n",
    "    edgelist = []\n",
    "    for i in nodelist:\n",
    "        for j in nodelist:\n",
    "            if i == j:\n",
    "                edgelist.append((i, j, 0))\n",
    "            if (i != j and sum((i, j)) == sum((j, i))):\n",
    "                rand = random.randint(5, 25)\n",
    "                edgelist.append((i, j, rand))\n",
    "    print(edgelist)\n",
    "\n",
    "    G = nx.Graph()\n",
    "    G.add_nodes_from(nodelist)\n",
    "    G.add_weighted_edges_from(edgelist)"
   ]
  },
  {
   "cell_type": "code",
   "execution_count": 3,
   "metadata": {
    "scrolled": true
   },
   "outputs": [
    {
     "name": "stdout",
     "output_type": "stream",
     "text": [
      "[(1, 1, 0), (1, 2, 15), (1, 3, 14), (2, 1, 15), (2, 2, 0), (2, 3, 7), (3, 1, 6), (3, 2, 23), (3, 3, 0)]\n"
     ]
    },
    {
     "data": {
      "text/plain": [
       "<Figure size 432x360 with 0 Axes>"
      ]
     },
     "metadata": {},
     "output_type": "display_data"
    }
   ],
   "source": [
    "weighted_graph(3)"
   ]
  },
  {
   "cell_type": "code",
   "execution_count": 4,
   "metadata": {},
   "outputs": [
    {
     "name": "stdout",
     "output_type": "stream",
     "text": [
      "[26, 9, 18, 24, 19, 20, 25, 6, 10, 6]\n",
      "[1, 2, 3, 4, 5]\n",
      "\n",
      "0 \t [1, 1]\n",
      "1 \t [1, 2]\n",
      "2 \t [1, 3]\n",
      "3 \t [1, 4]\n",
      "4 \t [1, 5]\n",
      "5 \t [2, 1]\n",
      "6 \t [2, 2]\n",
      "7 \t [2, 3]\n",
      "8 \t [2, 4]\n",
      "9 \t [2, 5]\n",
      "10 \t [3, 1]\n",
      "11 \t [3, 2]\n",
      "12 \t [3, 3]\n",
      "13 \t [3, 4]\n",
      "14 \t [3, 5]\n",
      "15 \t [4, 1]\n",
      "16 \t [4, 2]\n",
      "17 \t [4, 3]\n",
      "18 \t [4, 4]\n",
      "19 \t [4, 5]\n",
      "20 \t [5, 1]\n",
      "21 \t [5, 2]\n",
      "22 \t [5, 3]\n",
      "23 \t [5, 4]\n",
      "24 \t [5, 5]\n",
      "\n",
      "[[1, 2], [1, 3], [1, 4], [1, 5], [2, 3], [2, 4], [2, 5], [3, 4], [3, 5], [4, 5]]\n"
     ]
    }
   ],
   "source": [
    "n = 5\n",
    "rlist = [random.randint(5, 30) for i in range((n * (n - 1))//2)]\n",
    "print(rlist)\n",
    "\n",
    "nlist = list(range(1, n + 1))\n",
    "print(nlist)\n",
    "print()\n",
    "\n",
    "elist = []\n",
    "for i in nlist:\n",
    "    for j in nlist:\n",
    "        elist.append([i, j])\n",
    "\n",
    "for i, j in enumerate(elist):\n",
    "    print(i, \"\\t\", j)\n",
    "print()\n",
    "\n",
    "p = 0\n",
    "eff_edgelist = []\n",
    "while p < len(elist):\n",
    "    if elist[p][0] < elist[p][1]:\n",
    "        eff_edgelist.append(elist[p])\n",
    "    p += 1\n",
    "print(eff_edgelist)    "
   ]
  },
  {
   "cell_type": "code",
   "execution_count": null,
   "metadata": {},
   "outputs": [],
   "source": []
  }
 ],
 "metadata": {
  "kernelspec": {
   "display_name": "Python 3",
   "language": "python",
   "name": "python3"
  },
  "language_info": {
   "codemirror_mode": {
    "name": "ipython",
    "version": 3
   },
   "file_extension": ".py",
   "mimetype": "text/x-python",
   "name": "python",
   "nbconvert_exporter": "python",
   "pygments_lexer": "ipython3",
   "version": "3.7.3"
  },
  "latex_envs": {
   "LaTeX_envs_menu_present": true,
   "autoclose": false,
   "autocomplete": true,
   "bibliofile": "biblio.bib",
   "cite_by": "apalike",
   "current_citInitial": 1,
   "eqLabelWithNumbers": true,
   "eqNumInitial": 1,
   "hotkeys": {
    "equation": "Ctrl-E",
    "itemize": "Ctrl-I"
   },
   "labels_anchors": false,
   "latex_user_defs": false,
   "report_style_numbering": false,
   "user_envs_cfg": false
  },
  "toc": {
   "base_numbering": 1,
   "nav_menu": {},
   "number_sections": true,
   "sideBar": true,
   "skip_h1_title": false,
   "title_cell": "Table of Contents",
   "title_sidebar": "Contents",
   "toc_cell": false,
   "toc_position": {},
   "toc_section_display": true,
   "toc_window_display": false
  }
 },
 "nbformat": 4,
 "nbformat_minor": 2
}
